{
 "cells": [
  {
   "cell_type": "code",
   "execution_count": null,
   "metadata": {},
   "outputs": [],
   "source": [
    "from __future__ import print_function\n",
    "\n",
    "import sys\n",
    "import numpy as np\n",
    "from time import time\n",
    "import matplotlib.pyplot as plt \n",
    "\n",
    "sys.path.append('/home/xilinx')\n",
    "from pynq import Overlay\n",
    "from pynq import allocate\n",
    "from pynq import MMIO\n",
    "\n",
    "ROM_SIZE = 0x2000 #8K\n",
    "\n",
    "SOC_UP = 0x0000;\n",
    "SOC_LA = 0x1000;\n",
    "PL_AA_MB = 0x2000;\n",
    "PL_AA = 0x2100;\n",
    "SOC_IS = 0x3000;\n",
    "SOC_AS = 0x4000;\n",
    "SOC_CC = 0x5000;\n",
    "PL_AS = 0x6000;\n",
    "PL_IS = 0x7000;\n",
    "PL_DMA = 0x8000;"
   ]
  },
  {
   "cell_type": "code",
   "execution_count": null,
   "metadata": {
    "scrolled": true
   },
   "outputs": [],
   "source": [
    "ol = Overlay(\"/home/xilinx/jupyter_notebooks/PS/caravel_fpga.bit\")\n",
    "#ol.ip_dict"
   ]
  },
  {
   "cell_type": "code",
   "execution_count": null,
   "metadata": {},
   "outputs": [],
   "source": [
    "ipOUTPIN = ol.output_pin_0\n",
    "ipPS = ol.caravel_ps_0\n",
    "ipReadROMCODE = ol.read_romcode_0"
   ]
  },
  {
   "cell_type": "code",
   "execution_count": null,
   "metadata": {
    "scrolled": true
   },
   "outputs": [],
   "source": [
    "# Create np with 8K/4 (4 bytes per index) size and be initiled to 0\n",
    "rom_size_final = 0\n",
    "\n",
    "npROM = np.zeros(ROM_SIZE >> 2, dtype=np.uint32)\n",
    "npROM_index = 0\n",
    "npROM_offset = 0\n",
    "fiROM = open(\"/home/xilinx/jupyter_notebooks/PS/fsic.hex\", \"r+\")\n",
    "#fiROM = open(\"counter_wb.hex\", \"r+\")\n",
    "\n",
    "for line in fiROM:\n",
    "    # offset header\n",
    "    if line.startswith('@'):\n",
    "        # Ignore first char @\n",
    "        npROM_offset = int(line[1:].strip(b'\\x00'.decode()), base = 16)\n",
    "        npROM_offset = npROM_offset >> 2 # 4byte per offset\n",
    "        #print (npROM_offset)\n",
    "        npROM_index = 0\n",
    "        continue\n",
    "    #print (line)\n",
    "\n",
    "    # We suppose the data must be 32bit alignment\n",
    "    buffer = 0\n",
    "    bytecount = 0\n",
    "    for line_byte in line.strip(b'\\x00'.decode()).split():\n",
    "        buffer += int(line_byte, base = 16) << (8 * bytecount)\n",
    "        bytecount += 1\n",
    "        # Collect 4 bytes, write to npROM\n",
    "        if(bytecount == 4):\n",
    "            npROM[npROM_offset + npROM_index] = buffer\n",
    "            # Clear buffer and bytecount\n",
    "            buffer = 0\n",
    "            bytecount = 0\n",
    "            npROM_index += 1\n",
    "            #print (npROM_index)\n",
    "            continue\n",
    "    # Fill rest data if not alignment 4 bytes\n",
    "    if (bytecount != 0):\n",
    "        npROM[npROM_offset + npROM_index] = buffer\n",
    "        npROM_index += 1\n",
    "    \n",
    "fiROM.close()\n",
    "\n",
    "rom_size_final = npROM_offset + npROM_index\n",
    "#print (rom_size_final)\n",
    "\n",
    "#for data in npROM:\n",
    "#    print (hex(data))\n"
   ]
  },
  {
   "cell_type": "code",
   "execution_count": null,
   "metadata": {
    "scrolled": false
   },
   "outputs": [],
   "source": [
    "# Allocate dram buffer will assign physical address to ip ipReadROMCODE\n",
    "\n",
    "#rom_buffer = allocate(shape=(ROM_SIZE >> 2,), dtype=np.uint32)\n",
    "rom_buffer = allocate(shape=(rom_size_final,), dtype=np.uint32)\n",
    "\n",
    "# Initial it by npROM\n",
    "#for index in range (ROM_SIZE >> 2):\n",
    "for index in range (rom_size_final):\n",
    "    rom_buffer[index] = npROM[index]\n",
    "    \n",
    "#for index in range (ROM_SIZE >> 2):\n",
    "#    print (\"0x{0:08x}\".format(rom_buffer[index]))\n",
    "\n",
    "# Program physical address for the romcode base address\n",
    "\n",
    "\n",
    "# 0x00 : Control signals\n",
    "#        bit 0  - ap_start (Read/Write/COH)\n",
    "#        bit 1  - ap_done (Read/COR)\n",
    "#        bit 2  - ap_idle (Read)\n",
    "#        bit 3  - ap_ready (Read)\n",
    "#        bit 7  - auto_restart (Read/Write)\n",
    "#        others - reserved\n",
    "# 0x10 : Data signal of romcode\n",
    "#        bit 31~0 - romcode[31:0] (Read/Write)\n",
    "# 0x14 : Data signal of romcode\n",
    "#        bit 31~0 - romcode[63:32] (Read/Write)\n",
    "# 0x1c : Data signal of length_r\n",
    "#        bit 31~0 - length_r[31:0] (Read/Write)\n",
    "\n",
    "ipReadROMCODE.write(0x10, rom_buffer.device_address)\n",
    "ipReadROMCODE.write(0x1C, rom_size_final)\n",
    "\n",
    "ipReadROMCODE.write(0x14, 0)\n",
    "\n",
    "# ipReadROMCODE start to move the data from rom_buffer to bram\n",
    "ipReadROMCODE.write(0x00, 1) # IP Start\n",
    "while (ipReadROMCODE.read(0x00) & 0x04) == 0x00: # wait for done\n",
    "    continue\n",
    "    \n",
    "print(\"Write to bram done\")\n"
   ]
  },
  {
   "cell_type": "code",
   "execution_count": null,
   "metadata": {
    "scrolled": false
   },
   "outputs": [],
   "source": [
    "# Check MPRJ_IO input/out/en\n",
    "# 0x10 : Data signal of ps_mprj_in\n",
    "#        bit 31~0 - ps_mprj_in[31:0] (Read/Write)\n",
    "# 0x14 : Data signal of ps_mprj_in\n",
    "#        bit 5~0 - ps_mprj_in[37:32] (Read/Write)\n",
    "#        others  - reserved\n",
    "# 0x1c : Data signal of ps_mprj_out\n",
    "#        bit 31~0 - ps_mprj_out[31:0] (Read)\n",
    "# 0x20 : Data signal of ps_mprj_out\n",
    "#        bit 5~0 - ps_mprj_out[37:32] (Read)\n",
    "#        others  - reserved\n",
    "# 0x34 : Data signal of ps_mprj_en\n",
    "#        bit 31~0 - ps_mprj_en[31:0] (Read)\n",
    "# 0x38 : Data signal of ps_mprj_en\n",
    "#        bit 5~0 - ps_mprj_en[37:32] (Read)\n",
    "#        others  - reserved\n",
    "\n",
    "print (\"0x10 = \", hex(ipPS.read(0x10)))\n",
    "print (\"0x14 = \", hex(ipPS.read(0x14)))\n",
    "print (\"0x1c = \", hex(ipPS.read(0x1c)))\n",
    "print (\"0x20 = \", hex(ipPS.read(0x20)))\n",
    "print (\"0x34 = \", hex(ipPS.read(0x34)))\n",
    "print (\"0x38 = \", hex(ipPS.read(0x38)))\n"
   ]
  },
  {
   "cell_type": "code",
   "execution_count": null,
   "metadata": {
    "scrolled": true
   },
   "outputs": [],
   "source": [
    "# Release Caravel reset\n",
    "# 0x10 : Data signal of outpin_ctrl\n",
    "#        bit 0  - outpin_ctrl[0] (Read/Write)\n",
    "#        others - reserved\n",
    "print (ipOUTPIN.read(0x10))\n",
    "ipOUTPIN.write(0x10, 1)\n",
    "print (ipOUTPIN.read(0x10))"
   ]
  },
  {
   "cell_type": "code",
   "execution_count": null,
   "metadata": {
    "scrolled": true
   },
   "outputs": [],
   "source": [
    "# Check MPRJ_IO input/out/en\n",
    "# 0x10 : Data signal of ps_mprj_in\n",
    "#        bit 31~0 - ps_mprj_in[31:0] (Read/Write)\n",
    "# 0x14 : Data signal of ps_mprj_in\n",
    "#        bit 5~0 - ps_mprj_in[37:32] (Read/Write)\n",
    "#        others  - reserved\n",
    "# 0x1c : Data signal of ps_mprj_out\n",
    "#        bit 31~0 - ps_mprj_out[31:0] (Read)\n",
    "# 0x20 : Data signal of ps_mprj_out\n",
    "#        bit 5~0 - ps_mprj_out[37:32] (Read)\n",
    "#        others  - reserved\n",
    "# 0x34 : Data signal of ps_mprj_en\n",
    "#        bit 31~0 - ps_mprj_en[31:0] (Read)\n",
    "# 0x38 : Data signal of ps_mprj_en\n",
    "#        bit 5~0 - ps_mprj_en[37:32] (Read)\n",
    "#        others  - reserved\n",
    "\n",
    "print (\"0x10 = \", hex(ipPS.read(0x10)))\n",
    "print (\"0x14 = \", hex(ipPS.read(0x14)))\n",
    "print (\"0x1c = \", hex(ipPS.read(0x1c)))\n",
    "print (\"0x20 = \", hex(ipPS.read(0x20)))\n",
    "print (\"0x34 = \", hex(ipPS.read(0x34)))\n",
    "print (\"0x38 = \", hex(ipPS.read(0x38)))"
   ]
  },
  {
   "cell_type": "code",
   "execution_count": null,
   "metadata": {},
   "outputs": [],
   "source": [
    "IP_BASE_ADDRESS = 0x60000000\n",
    "ADDRESS_RANGE = 0x9000\n",
    "mmio = MMIO(IP_BASE_ADDRESS, ADDRESS_RANGE)"
   ]
  },
  {
   "cell_type": "code",
   "execution_count": null,
   "metadata": {},
   "outputs": [],
   "source": [
    "# ====================================================================================== #\n",
    "# ====================================================================================== #\n",
    "# PL_FSIC Side Configuration\n",
    "# ====================================================================================== #\n",
    "# ====================================================================================== #"
   ]
  },
  {
   "cell_type": "code",
   "execution_count": null,
   "metadata": {},
   "outputs": [],
   "source": [
    "# PL_IS Config\n",
    "ADDRESS_OFFSET = PL_IS #0x7000\n",
    "print(\"mmio.read(ADDRESS_OFFSET): \", hex(mmio.read(ADDRESS_OFFSET)))"
   ]
  },
  {
   "cell_type": "code",
   "execution_count": null,
   "metadata": {},
   "outputs": [],
   "source": [
    "mmio.write(ADDRESS_OFFSET, 0x12345671)\n",
    "print(\"mmio.read(ADDRESS_OFFSET): \", hex(mmio.read(ADDRESS_OFFSET)))"
   ]
  },
  {
   "cell_type": "code",
   "execution_count": null,
   "metadata": {},
   "outputs": [],
   "source": [
    "mmio.write(ADDRESS_OFFSET, 0x12345673)\n",
    "print(\"mmio.read(ADDRESS_OFFSET): \", hex(mmio.read(ADDRESS_OFFSET)))"
   ]
  },
  {
   "cell_type": "code",
   "execution_count": null,
   "metadata": {},
   "outputs": [],
   "source": [
    "# PL_DMA Config\n",
    "ADDRESS_OFFSET = PL_DMA # 0x8000\n",
    "print(\"mmio.read(ADDRESS_OFFSET): \", hex(mmio.read(ADDRESS_OFFSET)))\n",
    "print(\"mmio.read(ADDRESS_OFFSET+0x10): \", hex(mmio.read(ADDRESS_OFFSET+0x10)))\n",
    "print(\"mmio.read(ADDRESS_OFFSET+0x20): \", hex(mmio.read(ADDRESS_OFFSET+0x20)))\n",
    "print(\"mmio.read(ADDRESS_OFFSET+0x28): \", hex(mmio.read(ADDRESS_OFFSET+0x28)))\n",
    "print(\"mmio.read(ADDRESS_OFFSET+0x30): \", hex(mmio.read(ADDRESS_OFFSET+0x30)))\n",
    "print(\"mmio.read(ADDRESS_OFFSET+0x38): \", hex(mmio.read(ADDRESS_OFFSET+0x38)))\n",
    "print(\"mmio.read(ADDRESS_OFFSET+0x3C): \", hex(mmio.read(ADDRESS_OFFSET+0x3C)))"
   ]
  },
  {
   "cell_type": "code",
   "execution_count": null,
   "metadata": {},
   "outputs": [],
   "source": [
    "# PL_AS Config\n",
    "ADDRESS_OFFSET = PL_AS # 0x6000\n",
    "print(\"mmio.read(ADDRESS_OFFSET): \", hex(mmio.read(ADDRESS_OFFSET)))\n",
    "mmio.write(ADDRESS_OFFSET, 0x12345676)\n",
    "print(\"mmio.read(ADDRESS_OFFSET): \", hex(mmio.read(ADDRESS_OFFSET)))"
   ]
  },
  {
   "cell_type": "code",
   "execution_count": null,
   "metadata": {},
   "outputs": [],
   "source": [
    "# PL_AA Config\n",
    "ADDRESS_OFFSET = PL_AA # 0x2100\n",
    "print(\"mmio.read(ADDRESS_OFFSET+0x00): \", hex(mmio.read(ADDRESS_OFFSET+0x00)))\n",
    "print(\"mmio.read(ADDRESS_OFFSET+0x04): \", hex(mmio.read(ADDRESS_OFFSET+0x04))) "
   ]
  },
  {
   "cell_type": "code",
   "execution_count": null,
   "metadata": {},
   "outputs": [],
   "source": [
    "mmio.write(ADDRESS_OFFSET+0x00, 0x11111111)\n",
    "mmio.write(ADDRESS_OFFSET+0x04, 0x22222222)"
   ]
  },
  {
   "cell_type": "code",
   "execution_count": null,
   "metadata": {},
   "outputs": [],
   "source": [
    "# PL_AA_MB Mailbox\n",
    "ADDRESS_OFFSET = PL_AA_MB # 0x2000\n",
    "print(\"mmio.read(ADDRESS_OFFSET): \", hex(mmio.read(ADDRESS_OFFSET)))\n",
    "print(\"mmio.read(ADDRESS_OFFSET+0x04): \", hex(mmio.read(ADDRESS_OFFSET+0x04)))\n",
    "print(\"mmio.read(ADDRESS_OFFSET+0x08): \", hex(mmio.read(ADDRESS_OFFSET+0x08)))\n",
    "print(\"mmio.read(ADDRESS_OFFSET+0x0C): \", hex(mmio.read(ADDRESS_OFFSET+0x0C)))\n",
    "print(\"mmio.read(ADDRESS_OFFSET+0x10): \", hex(mmio.read(ADDRESS_OFFSET+0x10)))\n",
    "print(\"mmio.read(ADDRESS_OFFSET+0x14): \", hex(mmio.read(ADDRESS_OFFSET+0x14)))\n",
    "print(\"mmio.read(ADDRESS_OFFSET+0x18): \", hex(mmio.read(ADDRESS_OFFSET+0x18)))\n",
    "print(\"mmio.read(ADDRESS_OFFSET+0x1C): \", hex(mmio.read(ADDRESS_OFFSET+0x1C)))"
   ]
  },
  {
   "cell_type": "code",
   "execution_count": null,
   "metadata": {},
   "outputs": [],
   "source": [
    "mmio.write(ADDRESS_OFFSET, 0x11111112)\n",
    "mmio.write(ADDRESS_OFFSET+0x04, 0x22222223)\n",
    "mmio.write(ADDRESS_OFFSET+0x08, 0x33333334)\n",
    "mmio.write(ADDRESS_OFFSET+0x0C, 0x44444445)\n",
    "mmio.write(ADDRESS_OFFSET+0x10, 0x55555556)\n",
    "mmio.write(ADDRESS_OFFSET+0x14, 0x66666667)\n",
    "mmio.write(ADDRESS_OFFSET+0x18, 0x77777778)\n",
    "mmio.write(ADDRESS_OFFSET+0x1C, 0x88888889)"
   ]
  },
  {
   "cell_type": "code",
   "execution_count": null,
   "metadata": {},
   "outputs": [],
   "source": [
    "# ====================================================================================== #\n",
    "# ====================================================================================== #\n",
    "# PL_Caravel Side Configuration\n",
    "# ====================================================================================== #\n",
    "# ====================================================================================== #"
   ]
  },
  {
   "cell_type": "code",
   "execution_count": null,
   "metadata": {},
   "outputs": [],
   "source": [
    "# Caravel-IS Config\n",
    "ADDRESS_OFFSET = SOC_IS # 0x3000\n",
    "print(\"mmio.read(ADDRESS_OFFSET): \", hex(mmio.read(ADDRESS_OFFSET)))"
   ]
  },
  {
   "cell_type": "code",
   "execution_count": null,
   "metadata": {},
   "outputs": [],
   "source": [
    "# Caravel-IS Config\n",
    "ADDRESS_OFFSET = 0x3000\n",
    "mmio.write(ADDRESS_OFFSET, 0x00000003)"
   ]
  },
  {
   "cell_type": "code",
   "execution_count": null,
   "metadata": {},
   "outputs": [],
   "source": [
    "# Caravel-AS Config\n",
    "ADDRESS_OFFSET = SOC_AS # 0x4000\n",
    "print(\"mmio.read(ADDRESS_OFFSET): \", hex(mmio.read(ADDRESS_OFFSET)))"
   ]
  },
  {
   "cell_type": "code",
   "execution_count": null,
   "metadata": {},
   "outputs": [],
   "source": [
    "# Caravel-AS Config\n",
    "ADDRESS_OFFSET = SOC_AS # 0x4000\n",
    "mmio.write(ADDRESS_OFFSET, 0x00000006)"
   ]
  },
  {
   "cell_type": "code",
   "execution_count": null,
   "metadata": {},
   "outputs": [],
   "source": [
    "# Caravel-CC Config\n",
    "ADDRESS_OFFSET = SOC_CC # 0x5000\n",
    "print(\"mmio.read(ADDRESS_OFFSET): \", hex(mmio.read(ADDRESS_OFFSET)))"
   ]
  },
  {
   "cell_type": "code",
   "execution_count": null,
   "metadata": {},
   "outputs": [],
   "source": [
    "# Caravel-CC Config\n",
    "ADDRESS_OFFSET = SOC_CC # 0x5000\n",
    "mmio.write(ADDRESS_OFFSET, 0x00000000)"
   ]
  },
  {
   "cell_type": "code",
   "execution_count": null,
   "metadata": {},
   "outputs": [],
   "source": [
    "# Caravel-LA Config\n",
    "ADDRESS_OFFSET = SOC_LA # 0x1000\n",
    "print(\"mmio.read(ADDRESS_OFFSET): \", hex(mmio.read(ADDRESS_OFFSET)))"
   ]
  },
  {
   "cell_type": "code",
   "execution_count": null,
   "metadata": {},
   "outputs": [],
   "source": [
    "# Caravel-UP Config\n",
    "ADDRESS_OFFSET = SOC_UP # 0x0000\n",
    "print(\"mmio.read(ADDRESS_OFFSET): \", hex(mmio.read(ADDRESS_OFFSET+0x04)))"
   ]
  },
  {
   "cell_type": "code",
   "execution_count": null,
   "metadata": {},
   "outputs": [],
   "source": [
    "# ====================================================================================== #\n",
    "# ====================================================================================== #\n",
    "# LADMA Verification\n",
    "# ====================================================================================== #\n",
    "# ====================================================================================== #"
   ]
  },
  {
   "cell_type": "code",
   "execution_count": null,
   "metadata": {},
   "outputs": [],
   "source": [
    "# Allocation memory\n",
    "ladma_buf = allocate(shape=(1024,), dtype=np.uint32)\n",
    "print(\"ladma_buf.device_address: \", hex(ladma_buf.device_address))\n",
    "\n",
    "IP_BASE_ADDRESS = ladma_buf.device_address\n",
    "ADDRESS_RANGE = 0x1000\n",
    "buf_mmio = MMIO(IP_BASE_ADDRESS, ADDRESS_RANGE)\n",
    "# 0x00 : Control signals\n",
    "#        bit 0 - ap_start (R/W/COH)\n",
    "#        bit 1 - ap_done (R/COR)\n",
    "#        bit 2 - ap_idle (R)\n",
    "#        bit 3 - ap_ready (R/COR)\n",
    "# 0x10 : Buffer transfer done status register\n",
    "#        bit 0 - buffer transfer done status (R)\n",
    "# 0x20 : Buffer transfer done status clear register\n",
    "#        bit 0 - clear buffer transfer done status (R/W)\n",
    "# 0x28 : Buffer Length\n",
    "#        bit 31~0 - set buffer length (must 1024)\n",
    "# 0x30 : Triggered condition \n",
    "#        bit 23~0 - set triggered condidtion (R/W)\n",
    "#        others  - reserved\n",
    "# 0x34 : Buffer Lower base address \n",
    "#        bit 31~0 - (R/W)\n",
    "# 0x38 : Buffer High base address\n",
    "#        bit 31~0 - (R/W)\n",
    "# ladma Configuration\n",
    "ADDRESS_OFFSET = PL_DMA # 0x8000\n",
    "# exit clear operation\n",
    "mmio.write(ADDRESS_OFFSET + 0x20, 0x00000000)\n",
    "# set buffer length\n",
    "mmio.write(ADDRESS_OFFSET + 0x28, 0x00000400)\n",
    "# set trigger condition\n",
    "mmio.write(ADDRESS_OFFSET + 0x30, 0x00000000)\n",
    "# set buffer low\n",
    "mmio.write(ADDRESS_OFFSET + 0x38, ladma_buf.device_address)\n",
    "# set buffer high\n",
    "mmio.write(ADDRESS_OFFSET + 0x3C, 0x00000000)"
   ]
  },
  {
   "cell_type": "code",
   "execution_count": null,
   "metadata": {},
   "outputs": [],
   "source": [
    "ADDRESS_OFFSET = PL_DMA # 0x8000\n",
    "print(\"mmio.read(ADDRESS_OFFSET+0x00): \", hex(mmio.read(ADDRESS_OFFSET+0x00)))\n",
    "print(\"mmio.read(ADDRESS_OFFSET+0x10): \", hex(mmio.read(ADDRESS_OFFSET+0x10)))\n",
    "print(\"mmio.read(ADDRESS_OFFSET+0x20): \", hex(mmio.read(ADDRESS_OFFSET+0x20)))\n",
    "print(\"mmio.read(ADDRESS_OFFSET+0x28): \", hex(mmio.read(ADDRESS_OFFSET+0x28)))\n",
    "print(\"mmio.read(ADDRESS_OFFSET+0x30): \", hex(mmio.read(ADDRESS_OFFSET+0x30)))\n",
    "print(\"mmio.read(ADDRESS_OFFSET+0x38): \", hex(mmio.read(ADDRESS_OFFSET+0x38)))\n",
    "print(\"mmio.read(ADDRESS_OFFSET+0x3C): \", hex(mmio.read(ADDRESS_OFFSET+0x3C)))"
   ]
  },
  {
   "cell_type": "code",
   "execution_count": null,
   "metadata": {},
   "outputs": [],
   "source": [
    "# ladma Configuration\n",
    "ADDRESS_OFFSET = PL_DMA # 0x8000\n",
    "# set ap_start\n",
    "mmio.write(ADDRESS_OFFSET + 0x00, 0x00000001)"
   ]
  },
  {
   "cell_type": "code",
   "execution_count": null,
   "metadata": {},
   "outputs": [],
   "source": [
    "# enable la 0xFFFFFF\n",
    "ADDRESS_OFFSET = SOC_LA # 0x1000\n",
    "mmio.write(ADDRESS_OFFSET, 0x00FFFFFF)\n",
    "#print(\"mmio.read(ADDRESS_OFFSET): \", hex(mmio.read(ADDRESS_OFFSET)))\n",
    "# select target UP\n",
    "ADDRESS_OFFSET = SOC_CC # 0x5000\n",
    "mmio.write(ADDRESS_OFFSET, 0x00000003)\n",
    "#print(\"mmio.read(ADDRESS_OFFSET): \", hex(mmio.read(ADDRESS_OFFSET)))"
   ]
  },
  {
   "cell_type": "code",
   "execution_count": null,
   "metadata": {},
   "outputs": [],
   "source": [
    "# ladma Configuration\n",
    "ADDRESS_OFFSET = PL_DMA # 0x8000\n",
    "while True:\n",
    "    if mmio.read(ADDRESS_OFFSET+0x10) == 0x01:\n",
    "        break\n",
    "print(\"mmio.read(ADDRESS_OFFSET+0x10): \", hex(mmio.read(ADDRESS_OFFSET+0x10)))\n",
    "\n",
    "# disable la 0x000000\n",
    "ADDRESS_OFFSET = SOC_LA # 0x1000\n",
    "mmio.write(ADDRESS_OFFSET, 0x00000000)\n",
    "# select fake UP\n",
    "ADDRESS_OFFSET = SOC_CC # 0x5000\n",
    "mmio.write(ADDRESS_OFFSET, 0x00000000) \n",
    "\n",
    "ADDRESS_OFFSET = PL_DMA # 0x8000\n",
    "# clear buffer transfer done operation\n",
    "mmio.write(ADDRESS_OFFSET + 0x20, 0x00000001)\n",
    "# set ap_start\n",
    "mmio.write(ADDRESS_OFFSET + 0x00, 0x00000001)\n",
    "while True:\n",
    "    if mmio.read(ADDRESS_OFFSET+0x10) != 0x01:\n",
    "        break\n",
    "print(\"mmio.read(ADDRESS_OFFSET+0x10): \", hex(mmio.read(ADDRESS_OFFSET+0x10)))      "
   ]
  },
  {
   "cell_type": "code",
   "execution_count": null,
   "metadata": {},
   "outputs": [],
   "source": [
    "ADDRESS_OFFSET = PL_DMA # 0x8000\n",
    "print(\"mmio.read(ADDRESS_OFFSET+0x00): \", hex(mmio.read(ADDRESS_OFFSET+0x00)))\n",
    "print(\"mmio.read(ADDRESS_OFFSET+0x10): \", hex(mmio.read(ADDRESS_OFFSET+0x10)))\n",
    "print(\"mmio.read(ADDRESS_OFFSET+0x20): \", hex(mmio.read(ADDRESS_OFFSET+0x20)))\n",
    "print(\"mmio.read(ADDRESS_OFFSET+0x28): \", hex(mmio.read(ADDRESS_OFFSET+0x28)))\n",
    "print(\"mmio.read(ADDRESS_OFFSET+0x30): \", hex(mmio.read(ADDRESS_OFFSET+0x30)))\n",
    "print(\"mmio.read(ADDRESS_OFFSET+0x38): \", hex(mmio.read(ADDRESS_OFFSET+0x38)))\n",
    "print(\"mmio.read(ADDRESS_OFFSET+0x3C): \", hex(mmio.read(ADDRESS_OFFSET+0x3C)))"
   ]
  },
  {
   "cell_type": "code",
   "execution_count": null,
   "metadata": {},
   "outputs": [],
   "source": [
    "#dump la log to file\n",
    "file = open(\"la_dump.log\", \"w\")\n",
    "for i in range(0,0xFFF,4):\n",
    "    file.write('{:08x}'.format(buf_mmio.read(i))+\"\\n\")\n",
    "file.close()"
   ]
  },
  {
   "cell_type": "code",
   "execution_count": null,
   "metadata": {},
   "outputs": [],
   "source": [
    "# ladma Configuration\n",
    "ADDRESS_OFFSET = PL_DMA # 0x8000\n",
    "# exit clear operation\n",
    "mmio.write(ADDRESS_OFFSET + 0x20, 0x00000000)\n",
    "# set ap_start again\n",
    "mmio.write(ADDRESS_OFFSET + 0x00, 0x00000001)\n",
    "\n",
    "# Confirming SOC_CC & SOC_LA Reading is still work\n",
    "ADDRESS_OFFSET = SOC_CC # 0x5000\n",
    "print(\"mmio.read(ADDRESS_OFFSET): \", hex(mmio.read(ADDRESS_OFFSET)))\n",
    "print(\"mmio.read(ADDRESS_OFFSET): \", hex(mmio.read(ADDRESS_OFFSET)))"
   ]
  },
  {
   "cell_type": "code",
   "execution_count": null,
   "metadata": {},
   "outputs": [],
   "source": []
  }
 ],
 "metadata": {
  "kernelspec": {
   "display_name": "Python 3 (ipykernel)",
   "language": "python",
   "name": "python3"
  },
  "language_info": {
   "codemirror_mode": {
    "name": "ipython",
    "version": 3
   },
   "file_extension": ".py",
   "mimetype": "text/x-python",
   "name": "python",
   "nbconvert_exporter": "python",
   "pygments_lexer": "ipython3",
   "version": "3.10.4"
  }
 },
 "nbformat": 4,
 "nbformat_minor": 2
}
